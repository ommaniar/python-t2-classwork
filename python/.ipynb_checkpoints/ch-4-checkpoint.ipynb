{
 "cells": [
  {
   "cell_type": "code",
   "execution_count": 91,
   "id": "13d96268-6aca-4572-9e16-0d564a41e1c1",
   "metadata": {},
   "outputs": [],
   "source": [
    "import numpy as np\n",
    "import pandas as pd\n",
    "import seaborn as sn\n",
    "import matplotlib.pyplot as plt\n",
    "from sklearn.model_selection import train_test_split\n",
    "from sklearn.linear_model import LinearRegression\n",
    "from sklearn.metrics import r2_score, mean_squared_error"
   ]
  },
  {
   "cell_type": "code",
   "execution_count": null,
   "id": "83856a6b-a067-4264-bff9-5c71a96d0313",
   "metadata": {},
   "outputs": [],
   "source": [
    "data = {\n",
    "    \"l\":[10,13,20,22],\n",
    "    \"b\":[15,20,20,14]\n",
    "}"
   ]
  },
  {
   "cell_type": "code",
   "execution_count": null,
   "id": "f10e8f7c-8576-4027-9650-378cd66d9efd",
   "metadata": {},
   "outputs": [],
   "source": [
    "import pandas as pd\n",
    "import numpy as np"
   ]
  },
  {
   "cell_type": "code",
   "execution_count": null,
   "id": "423e9cf6-b918-45a4-b0a9-0c0b2b74ebab",
   "metadata": {},
   "outputs": [],
   "source": []
  },
  {
   "cell_type": "code",
   "execution_count": null,
   "id": "3e168e61-01d5-4e51-b874-af53beafe91a",
   "metadata": {},
   "outputs": [],
   "source": [
    "df = pd.DataFrame(data)\n",
    "df[\"area\"] = [i*j for i,j in zip(df.l,df.b)]"
   ]
  },
  {
   "cell_type": "code",
   "execution_count": null,
   "id": "3af0733f-ff51-4b51-9342-407ffca50943",
   "metadata": {},
   "outputs": [],
   "source": [
    "df[\"a\"] = df.l * df.b\n"
   ]
  },
  {
   "cell_type": "code",
   "execution_count": null,
   "id": "07d74025-7a0e-4215-8f41-1bea5fdaae38",
   "metadata": {},
   "outputs": [],
   "source": [
    "df"
   ]
  },
  {
   "cell_type": "code",
   "execution_count": null,
   "id": "a56782c9-986c-455f-8262-e041b4ac6416",
   "metadata": {},
   "outputs": [],
   "source": [
    "df[\"size\"]=np.where(df[\"a\"] >= 400,\"L\",\n",
    "                    np.where(df[\"a\"]>300,\"m\",\n",
    "                             np.where(df[\"a\"] > 200,\"S\",\n",
    "                                      np.where(df[\"a\"]>100,\"k\",\"very small\"))))"
   ]
  },
  {
   "cell_type": "code",
   "execution_count": null,
   "id": "1e6e75d3-8f27-43ca-b485-771c6350d40c",
   "metadata": {},
   "outputs": [],
   "source": [
    "df"
   ]
  },
  {
   "cell_type": "code",
   "execution_count": null,
   "id": "7d582ea5-33e3-413d-a079-338a03329278",
   "metadata": {},
   "outputs": [],
   "source": [
    "df = pd.read_csv(\"files/housing.csv\")\n",
    "df"
   ]
  },
  {
   "cell_type": "code",
   "execution_count": null,
   "id": "5b1b7d38-1eba-4e6a-9326-34549d901d74",
   "metadata": {},
   "outputs": [],
   "source": [
    "df.isnull().sum()"
   ]
  },
  {
   "cell_type": "code",
   "execution_count": null,
   "id": "93b2b83e-989d-444c-b3c6-b7b189fdf5ca",
   "metadata": {},
   "outputs": [],
   "source": [
    "df.duplicated().sum()"
   ]
  },
  {
   "cell_type": "code",
   "execution_count": null,
   "id": "d5903964-101a-4d11-94a8-dd17f5c6f232",
   "metadata": {},
   "outputs": [],
   "source": [
    "df = df.drop(\"Unnamed: 0\",axis=1)"
   ]
  },
  {
   "cell_type": "code",
   "execution_count": null,
   "id": "9642a4fa-a325-4d77-b66e-d5f5dfd68fa3",
   "metadata": {},
   "outputs": [],
   "source": [
    "df.corr()"
   ]
  },
  {
   "cell_type": "code",
   "execution_count": null,
   "id": "e3f2855b-3764-4a09-9a72-91abd6bb9adf",
   "metadata": {},
   "outputs": [],
   "source": [
    "x = pd.DataFrame(df.lstat)\n",
    "y = pd.DataFrame(df.medv)"
   ]
  },
  {
   "cell_type": "code",
   "execution_count": null,
   "id": "396f8c3a-4db9-4fe2-b73c-593527d4165a",
   "metadata": {},
   "outputs": [],
   "source": [
    "x = df.drop(\"medv\",axis=1)\n",
    "y = df[[\"medv\"]]"
   ]
  },
  {
   "cell_type": "code",
   "execution_count": null,
   "id": "41a57a0e-4798-42f5-b099-e72e791e2d40",
   "metadata": {},
   "outputs": [],
   "source": [
    "from sklearn.model_selection import train_test_split\n",
    "x_train, x_test, y_train, y_test = train_test_split(x,y,test_size=0.2,random_state=3)"
   ]
  },
  {
   "cell_type": "code",
   "execution_count": null,
   "id": "38791ecf-fa4e-4140-8fa7-6bff23ecfbf3",
   "metadata": {},
   "outputs": [],
   "source": [
    "x_train.shape,x_test.shape,y_train.shape, y_test.shape"
   ]
  },
  {
   "cell_type": "code",
   "execution_count": null,
   "id": "a6247002-e90c-48ca-a77a-24084f3de2df",
   "metadata": {},
   "outputs": [],
   "source": [
    "from sklearn.linear_model import LinearRegression"
   ]
  },
  {
   "cell_type": "code",
   "execution_count": null,
   "id": "63b5cca2-aa38-45d8-b92c-f8b48b7d5045",
   "metadata": {},
   "outputs": [],
   "source": [
    "mod = LinearRegression()\n",
    "mod.fit(x_train,y_train)"
   ]
  },
  {
   "cell_type": "code",
   "execution_count": null,
   "id": "ba680030-f3be-4180-a6e8-9449bdf1d932",
   "metadata": {},
   "outputs": [],
   "source": [
    "y_pred = mod.predict(x_test)"
   ]
  },
  {
   "cell_type": "code",
   "execution_count": null,
   "id": "3af500d4-59a0-4432-b1fc-7ce902f9ff2d",
   "metadata": {},
   "outputs": [],
   "source": [
    "from sklearn.metrics import mean_squared_error, r2_score\n",
    "mse = mean_squared_error(y_test, y_pred)\n",
    "r2 = r2_score(y_test,y_pred)"
   ]
  },
  {
   "cell_type": "code",
   "execution_count": null,
   "id": "a015a29b-7b5a-45ea-91ae-ab777b222dd5",
   "metadata": {},
   "outputs": [],
   "source": [
    "mse,r2"
   ]
  },
  {
   "cell_type": "code",
   "execution_count": null,
   "id": "e2a663aa-f041-43ec-a369-6acc776dd88b",
   "metadata": {},
   "outputs": [],
   "source": [
    "print(mod.coef_)\n",
    "print(mod.intercept_)"
   ]
  },
  {
   "cell_type": "code",
   "execution_count": null,
   "id": "07a2b879-52bd-4d5c-9e53-5088dcce4d9b",
   "metadata": {},
   "outputs": [],
   "source": [
    "import numpy as np\n",
    "import pandas as pd\n",
    "import seaborn as sn\n",
    "import matplotlib.pyplot as plt\n",
    "from sklearn.model_selection import train_test_split\n",
    "from sklearn.linear_model import LinearRegression\n",
    "from sklearn.metrics import r2_score, mean_squared_error"
   ]
  },
  {
   "cell_type": "code",
   "execution_count": null,
   "id": "71c96fd1-741b-4a32-bad7-6ee812beb2c0",
   "metadata": {},
   "outputs": [],
   "source": [
    "\n",
    "a = [[0.1,1,2,3,2,1,50,4,300,5,30,20,5]]\n",
    "p = mod.predict(a)\n",
    "p"
   ]
  },
  {
   "cell_type": "code",
   "execution_count": null,
   "id": "e605ddb8-bf69-4454-804f-6250b82a292f",
   "metadata": {},
   "outputs": [],
   "source": [
    "df = pd.read_csv(\"files/CarPrice_Assignment.csv\")\n",
    "display(df.head())\n",
    "df.shape\n",
    "display(df.dtypes)"
   ]
  },
  {
   "cell_type": "code",
   "execution_count": null,
   "id": "2785717b-dce7-4da4-8941-f1cee26df9c2",
   "metadata": {},
   "outputs": [],
   "source": [
    "df.nunique()"
   ]
  },
  {
   "cell_type": "code",
   "execution_count": null,
   "id": "43b76a6f-5c1d-456c-be65-b00367feeebf",
   "metadata": {},
   "outputs": [],
   "source": [
    "df.fueltype.value_counts()"
   ]
  },
  {
   "cell_type": "code",
   "execution_count": null,
   "id": "d91c56b3-8f5e-4542-be9c-53de4507fba8",
   "metadata": {},
   "outputs": [],
   "source": [
    "df.aspiration.value_counts()"
   ]
  },
  {
   "cell_type": "code",
   "execution_count": null,
   "id": "cd2edaa7-34a4-4abf-ab82-c99890c9513f",
   "metadata": {},
   "outputs": [],
   "source": [
    "df.doornumber.value_counts()"
   ]
  },
  {
   "cell_type": "code",
   "execution_count": null,
   "id": "940e59d3-1d44-4ac6-a9b5-61221ffa137e",
   "metadata": {},
   "outputs": [],
   "source": [
    "df.carbody.value_counts()"
   ]
  },
  {
   "cell_type": "code",
   "execution_count": null,
   "id": "ca8ec4ef-0f63-4b40-a2e6-6662a56d3b6f",
   "metadata": {},
   "outputs": [],
   "source": [
    "df.drivewheel.value_counts()"
   ]
  },
  {
   "cell_type": "code",
   "execution_count": null,
   "id": "2b24c6db-e6ad-49c3-8b17-86f560c8cb3c",
   "metadata": {},
   "outputs": [],
   "source": [
    "df.enginelocation.value_counts()"
   ]
  },
  {
   "cell_type": "code",
   "execution_count": null,
   "id": "38ee6e38-580a-428a-8dc6-a425f7d5a3a2",
   "metadata": {},
   "outputs": [],
   "source": [
    "df.enginetype.value_counts()"
   ]
  },
  {
   "cell_type": "code",
   "execution_count": null,
   "id": "34062595-e5db-427c-8fc6-6fb804b3ca27",
   "metadata": {},
   "outputs": [],
   "source": [
    "df.fuelsystem.value_counts()"
   ]
  },
  {
   "cell_type": "code",
   "execution_count": null,
   "id": "af9f5612-0bfb-40e4-8136-e3223ce73106",
   "metadata": {},
   "outputs": [],
   "source": [
    "df.CarName.value_counts()"
   ]
  },
  {
   "cell_type": "code",
   "execution_count": null,
   "id": "091f2aca-2792-4940-ab5e-e71006e6032c",
   "metadata": {},
   "outputs": [],
   "source": [
    "df.cylindernumber.value_counts()"
   ]
  },
  {
   "cell_type": "code",
   "execution_count": null,
   "id": "fc01eebf-2c13-4fc0-a14d-6b9fe302416b",
   "metadata": {},
   "outputs": [],
   "source": [
    "df[\"company\"]=[x.split()[0] for x in df[\"CarName\"]]"
   ]
  },
  {
   "cell_type": "code",
   "execution_count": null,
   "id": "94a9259f-f667-4e0c-8d63-da5b0189223b",
   "metadata": {},
   "outputs": [],
   "source": [
    "# df[\"company\"]=df[\"CarName\"].apply(lambda x:x.split('')[0])"
   ]
  },
  {
   "cell_type": "code",
   "execution_count": null,
   "id": "51b10100-0bda-484a-b1cf-585bde6a8ed7",
   "metadata": {},
   "outputs": [],
   "source": [
    "df.company.value_counts()"
   ]
  },
  {
   "cell_type": "code",
   "execution_count": null,
   "id": "29b5bbeb-4d50-46bb-82ba-3236451e256f",
   "metadata": {},
   "outputs": [],
   "source": [
    "df.company.nunique()"
   ]
  },
  {
   "cell_type": "code",
   "execution_count": null,
   "id": "05b46b98-e006-43fb-aed4-5f84ddaaaefe",
   "metadata": {},
   "outputs": [],
   "source": [
    "df.company.replace(\"toyouta\",\"toyota\",inplace=True)"
   ]
  },
  {
   "cell_type": "code",
   "execution_count": null,
   "id": "743b105f-e890-45b5-ba9a-f929b9529c05",
   "metadata": {},
   "outputs": [],
   "source": [
    "d = [[\"maxda\",\"mazda\"],[\"porcshce\",\"porsche\"],[\"vokswagen\",\"volkswagen\"],[\"vw\",\"volkswagen\"],[\"Nissan\",\"nissan\"]]\n",
    "for i in d:\n",
    "    df.company.replace(i[0],i[1],inplace=True)"
   ]
  },
  {
   "cell_type": "code",
   "execution_count": null,
   "id": "046558fe-ea4c-435a-9da7-c12478021151",
   "metadata": {},
   "outputs": [],
   "source": [
    "df.company.value_counts()\n"
   ]
  },
  {
   "cell_type": "code",
   "execution_count": null,
   "id": "19594e0e-c07e-4323-a966-cc40b3140b22",
   "metadata": {},
   "outputs": [],
   "source": [
    "df.company.value_counts().plot(kind=\"bar\")"
   ]
  },
  {
   "cell_type": "code",
   "execution_count": null,
   "id": "d717b8c4-4ea9-4347-b3aa-7b647f3ca098",
   "metadata": {},
   "outputs": [],
   "source": [
    "sn.countplot(x=\"company\",data=df)"
   ]
  },
  {
   "cell_type": "code",
   "execution_count": null,
   "id": "3135377f-51e1-4f30-bff2-732ba3aecea4",
   "metadata": {},
   "outputs": [],
   "source": [
    "df_categorial = df.select_dtypes(include=[\"object\"])"
   ]
  },
  {
   "cell_type": "code",
   "execution_count": null,
   "id": "c8599a59-5abd-4be9-b5d4-bdf7bb87f661",
   "metadata": {},
   "outputs": [],
   "source": [
    "df_categorial"
   ]
  },
  {
   "cell_type": "code",
   "execution_count": null,
   "id": "381c7dff-aae5-4694-9bc3-9e79b27376dc",
   "metadata": {},
   "outputs": [],
   "source": [
    "sn.heatmap(df.corr(numeric_only=True))"
   ]
  },
  {
   "cell_type": "code",
   "execution_count": null,
   "id": "63969c9b-709f-42ca-b416-e9b02a570264",
   "metadata": {},
   "outputs": [],
   "source": [
    "pd.plotting.scatter_matrix( df.select_dtypes(include=[\"number\"]),figsize=[15,15])\n",
    "plt.plot()"
   ]
  },
  {
   "cell_type": "code",
   "execution_count": null,
   "id": "04873e21-ee0a-48ca-b6fc-03fa1e33671a",
   "metadata": {},
   "outputs": [],
   "source": [
    "df"
   ]
  },
  {
   "cell_type": "code",
   "execution_count": null,
   "id": "222ddade-4ca8-42c2-b869-3ec89d52c51d",
   "metadata": {},
   "outputs": [],
   "source": [
    "scale = [\"wheelbase\",\"carlength\",\"carwidth\",\"carheight\",\"curbweight\",\"enginesize\",\"boreratio\",\"stroke\",\"compressionratio\",\"horsepower\",\"peakrpm\",\"citympg\",\"highwaympg\",\"price\"]\n",
    "df\n",
    "for col in scale:\n",
    "    df[col] = np.log(df[col])"
   ]
  },
  {
   "cell_type": "code",
   "execution_count": null,
   "id": "d2e32994-9a54-4b7d-ad25-a3721b4c7add",
   "metadata": {},
   "outputs": [],
   "source": [
    "df"
   ]
  },
  {
   "cell_type": "code",
   "execution_count": null,
   "id": "ceed7551-98ab-4fb9-8d63-fdce7588e57e",
   "metadata": {},
   "outputs": [],
   "source": [
    "# df.drop(columns=[\"car_ID\",\"symboling\",\"CarName\"],inplace=True)\n",
    "cat_col = [\"fueltype\",\"aspiration\",\"doornumber\",\"carbody\",\"drivewheel\",\"enginelocation\",\"carbody\",\"drivewheel\",\"enginelocation\",\"enginetype\",\"cylindernumber\",\"fuelsystem\",\"company\"]\n",
    "df_dummy= pd.get_dummies(df,columns=cat_col)\n"
   ]
  },
  {
   "cell_type": "code",
   "execution_count": null,
   "id": "f0d7baad-c90d-40d9-a147-521c3033919e",
   "metadata": {},
   "outputs": [],
   "source": [
    "df_dummy"
   ]
  },
  {
   "cell_type": "code",
   "execution_count": null,
   "id": "22229ff8-dbcf-4254-b12d-50b7ffc943a7",
   "metadata": {},
   "outputs": [],
   "source": [
    "df_categorial"
   ]
  },
  {
   "cell_type": "code",
   "execution_count": null,
   "id": "267f0d11-ca96-47c3-b4ba-8575c91fb06c",
   "metadata": {},
   "outputs": [],
   "source": [
    "x = df_dummy.drop([\"price\",\"CarName\"],axis=1)\n",
    "y = df.price\n",
    "x_train, x_test, y_train, y_test = train_test_split(x,y,test_size=0.2,random_state=3)\n",
    "m = LinearRegression()\n",
    "m.fit(x_train,y_train)\n",
    "y_pred = m.predict(x_test)\n",
    "print(r2_score(y_test,y_pred))\n",
    "print(mean_squared_error(y_test,y_pred))"
   ]
  },
  {
   "cell_type": "code",
   "execution_count": null,
   "id": "01f7de95-ffa2-4174-a20b-2611c3bdff1b",
   "metadata": {},
   "outputs": [],
   "source": [
    "from sklearn.preprocessing import PolynomialFeatures\n",
    "# linear regression\n",
    "x = 6* np.random.rand(200,1) -3\n",
    "y = 0.8 * x ** 2 + 0.9 * x + 2 + np.random.rand(200,1)\n",
    "plt.plot(x,y,\"o\")\n",
    "x_train, x_test, y_train, y_test = train_test_split(x,y,test_size=0.2,random_state=3)\n",
    "m = LinearRegression()\n",
    "m.fit(x_train,y_train)\n",
    "y_pred = m.predict(x_test)\n",
    "print(r2_score(y_test,y_pred))\n",
    "print(mean_squared_error(y_test,y_pred))"
   ]
  },
  {
   "cell_type": "code",
   "execution_count": null,
   "id": "0befe24b-23fe-4d2f-a7ce-ec18c27be6f9",
   "metadata": {},
   "outputs": [],
   "source": [
    "# polynomial regression\n",
    "poly = PolynomialFeatures(degree=2)\n",
    "x_train_transform = poly.fit_transform(x_train)\n",
    "x_test = poly.transform(x_test)\n",
    "lr = LinearRegression()\n",
    "lr.fit(x_train_transform,y_train)"
   ]
  },
  {
   "cell_type": "code",
   "execution_count": null,
   "id": "6ffd15fc-2c7b-4561-a570-af855f90909c",
   "metadata": {},
   "outputs": [],
   "source": [
    "y_pred = lr.predict(x_test)\n",
    "print(r2_score(y_test,y_pred))\n",
    "print(mean_squared_error(y_test,y_pred))"
   ]
  },
  {
   "cell_type": "code",
   "execution_count": null,
   "id": "f5dd64e7-ed1d-417e-803f-47dbb038d62d",
   "metadata": {},
   "outputs": [],
   "source": [
    "# ice cream data set\n",
    "df = pd.read_csv(\"csv_files/Ice_cream selling data.csv\")"
   ]
  },
  {
   "cell_type": "code",
   "execution_count": null,
   "id": "626872a4-e716-4f32-a4cf-d3da59832055",
   "metadata": {},
   "outputs": [],
   "source": [
    "df.describe()"
   ]
  },
  {
   "cell_type": "code",
   "execution_count": null,
   "id": "6cceb28d-c867-4941-964b-f61636160db1",
   "metadata": {},
   "outputs": [],
   "source": [
    "sn.scatterplot(x=\"Temperature (°C)\",y=\"Ice Cream Sales (units)\",data=df)"
   ]
  },
  {
   "cell_type": "code",
   "execution_count": null,
   "id": "7370823a-12a6-4867-80a7-7f605152cb85",
   "metadata": {},
   "outputs": [],
   "source": [
    "df.isna().sum()"
   ]
  },
  {
   "cell_type": "code",
   "execution_count": null,
   "id": "3b053207-5780-45bf-b6bb-5a2a2678e72f",
   "metadata": {},
   "outputs": [],
   "source": [
    "df.duplicated().sum()"
   ]
  },
  {
   "cell_type": "code",
   "execution_count": null,
   "id": "49b17c8e-49f6-474c-a790-9b425a5ee625",
   "metadata": {},
   "outputs": [],
   "source": [
    "from sklearn.preprocessing import PolynomialFeatures\n",
    "# linear regression\n",
    "x = df.drop(\"Ice Cream Sales (units)\",axis=1)\n",
    "y = df.drop(\"Temperature (°C)\",axis=1)\n",
    "# plt.plot(x,y,\"o\")\n",
    "mse = []\n",
    "r2 = []\n",
    "for i in range(1,11):\n",
    "    poly = PolynomialFeatures(degree=i)\n",
    "    x_train, x_test, y_train, y_test = train_test_split(x,y,test_size=0.2,random_state=3)\n",
    "    x_train_transform = poly.fit_transform(x_train)\n",
    "    x_test = poly.transform(x_test)\n",
    "    lr = LinearRegression()\n",
    "    lr.fit(x_train_transform,y_train)\n",
    "    y_pred = lr.predict(x_test)\n",
    "    print(lr.coef_)\n",
    "    mse.append(mean_squared_error(y_pred,y_test))\n",
    "    r2.append(r2_score(y_pred,y_test))"
   ]
  },
  {
   "cell_type": "code",
   "execution_count": null,
   "id": "e3d14613-4ce9-4273-b791-c3a0546f2a62",
   "metadata": {},
   "outputs": [],
   "source": [
    "p1 = pd.DataFrame({\"degree\": range(1,11),\"mse\":mse,\"r2\":r2})\n",
    "plt.plot(p1.degree,p1.mse)\n",
    "plt.show()\n",
    "plt.plot(p1.degree,p1.r2)\n",
    "plt.show()"
   ]
  },
  {
   "cell_type": "code",
   "execution_count": null,
   "id": "7d46d9a7-ec35-44f1-b5a1-8d601a72d963",
   "metadata": {},
   "outputs": [],
   "source": [
    "poly = PolynomialFeatures(degree=2)\n",
    "\n",
    "x_train, x_test, y_train, y_test = train_test_split(x,y,test_size=0.2,random_state=3)\n",
    "x_train_transform = poly.fit_transform(x_train)\n",
    "x_test = poly.transform(x_test)\n",
    "lr = LinearRegression()\n",
    "lr.fit(x_train_transform,y_train)\n",
    "y_pred = lr.predict(x_test)\n",
    "print(lr.coef_)\n",
    "print(mean_squared_error(y_pred,y_test))\n",
    "print(r2_score(y_pred,y_test))"
   ]
  },
  {
   "cell_type": "code",
   "execution_count": null,
   "id": "8d940d24-5788-4239-9e18-5ad88a252f63",
   "metadata": {},
   "outputs": [],
   "source": [
    "df = pd.read_csv(\"csv_files/Real estate.csv\")\n",
    "df.describe()"
   ]
  },
  {
   "cell_type": "code",
   "execution_count": null,
   "id": "d0b04c6e-6b8b-4f16-b4ed-766ec79cbffa",
   "metadata": {},
   "outputs": [],
   "source": [
    "df.info()"
   ]
  },
  {
   "cell_type": "code",
   "execution_count": null,
   "id": "511b94fa-8985-45e3-8e72-6fef3ca93099",
   "metadata": {},
   "outputs": [],
   "source": [
    "df.corr()"
   ]
  },
  {
   "cell_type": "code",
   "execution_count": null,
   "id": "b4d9bc85-f773-4e1e-aceb-86aef2dcd0c5",
   "metadata": {},
   "outputs": [],
   "source": [
    "x = df.drop([\"Y house price of unit area\",\"No\",\"X1 transaction date\"],axis=1)\n",
    "y = df.drop([\"No\",\"X1 transaction date\",\"X1 transaction date\",\"X3 distance to the nearest MRT station\",\"X4 number of convenience stores\",\"X5 latitude\",\"X6 longitude\"],axis=1)\n",
    "mse = []\n",
    "r2 = []\n",
    "for i in range(1,11):\n",
    "    poly = PolynomialFeatures(degree=i)\n",
    "    x_train, x_test, y_train, y_test = train_test_split(x,y,test_size=0.2,random_state=3)\n",
    "    x_train_transform = poly.fit_transform(x_train)\n",
    "    x_test = poly.transform(x_test)\n",
    "    lr = LinearRegression()\n",
    "    lr.fit(x_train_transform,y_train)\n",
    "    y_pred = lr.predict(x_test)\n",
    "    mse.append(mean_squared_error(y_pred,y_test))\n",
    "    r2.append(r2_score(y_pred,y_test))"
   ]
  },
  {
   "cell_type": "code",
   "execution_count": null,
   "id": "648a769e-4448-4a3e-9234-da3707c4e420",
   "metadata": {},
   "outputs": [],
   "source": [
    "p1 = pd.DataFrame({\"degree\": range(1,11),\"mse\":mse,\"r2\":r2})\n",
    "plt.plot(p1.degree,p1.mse)\n",
    "plt.show()\n",
    "plt.plot(p1.degree,p1.r2)\n",
    "plt.show()"
   ]
  },
  {
   "cell_type": "code",
   "execution_count": null,
   "id": "1b9fb686-0d57-482a-999a-6a4c3717d557",
   "metadata": {},
   "outputs": [],
   "source": [
    "x = df.drop([\"Y house price of unit area\",\"No\",\"X1 transaction date\"],axis=1)\n",
    "y = df.drop([\"No\",\"X1 transaction date\",\"X1 transaction date\",\"X3 distance to the nearest MRT station\",\"X4 number of convenience stores\",\"X5 latitude\",\"X6 longitude\"],axis=1)\n",
    "poly = PolynomialFeatures(degree=3)\n",
    "\n",
    "x_train, x_test, y_train, y_test = train_test_split(x,y,test_size=0.2,random_state=3)\n",
    "x_train_transform = poly.fit_transform(x_train)\n",
    "x_test = poly.transform(x_test)\n",
    "lr = LinearRegression()\n",
    "lr.fit(x_train_transform,y_train)\n",
    "y_pred = lr.predict(x_test)\n",
    "print(mean_squared_error(y_pred,y_test))\n",
    "print(r2_score(y_pred,y_test))"
   ]
  },
  {
   "cell_type": "code",
   "execution_count": null,
   "id": "ecc48c3d-50a6-414d-a0cb-bddfdcf08424",
   "metadata": {},
   "outputs": [],
   "source": [
    "actual = [1,0,1,0,1,0,0,1,0,0]\n",
    "knn = [1,0,0,0,1,0,1,1,1,0]"
   ]
  },
  {
   "cell_type": "code",
   "execution_count": null,
   "id": "1dd52cc2-2de8-417a-bc97-511316abb7fd",
   "metadata": {},
   "outputs": [],
   "source": [
    "matrix = [[0,0],[0,0]]"
   ]
  },
  {
   "cell_type": "code",
   "execution_count": null,
   "id": "f186a532-133a-488f-bd98-45c5635ef73e",
   "metadata": {},
   "outputs": [],
   "source": [
    "for i,x in zip(actual,knn):\n",
    "    if (i == 1 and x == 1):\n",
    "        matrix[0][0]+= 1\n",
    "    elif(i == 1 and x == 0):\n",
    "        matrix[0][1]+= 1\n",
    "    elif(i==0 and x == 1):\n",
    "        matrix[1][0]+= 1\n",
    "    else:\n",
    "        matrix[1][1]+= 1"
   ]
  },
  {
   "cell_type": "code",
   "execution_count": null,
   "id": "c5fc1856-5d37-4a49-b3ad-e93c12adef5a",
   "metadata": {},
   "outputs": [],
   "source": [
    "matrix"
   ]
  },
  {
   "cell_type": "markdown",
   "id": "34732c70-ba0c-45b5-b1ca-67dbe330e7b8",
   "metadata": {},
   "source": [
    "df = pd.DataFrame({\"actual\":actual,\"knn\":knn})\n",
    "df"
   ]
  },
  {
   "cell_type": "markdown",
   "id": "9028a5d8-04c6-4710-bbb9-dffc9e415d7b",
   "metadata": {},
   "source": [
    "    cat    dog\n",
    "cat 200    10\n",
    "dog 5      285"
   ]
  },
  {
   "cell_type": "markdown",
   "id": "155fe3ea-7032-4b54-9e27-06ab1ce03741",
   "metadata": {},
   "source": [
    "Type 2 Error: 10\n",
    "Type 1 Error: 5\n",
    "Accuracy: 0.97 (TP + TN)/(Total)\n",
    "Error Rate: 0.03 1-acc\n",
    "Precision: TP/(TP+FP)\n",
    "Recall: TP/(TP+FN)\n",
    "Specificity: TN/(TW+TP)"
   ]
  },
  {
   "cell_type": "code",
   "execution_count": null,
   "id": "048cdb37-c030-442c-9928-0ecbafb5f3e8",
   "metadata": {},
   "outputs": [],
   "source": [
    "TP = 200\n",
    "TN = 285\n",
    "FP = 5\n",
    "FN = 10\n",
    "acc = (TP + TN)/(TP+TN+FP+FN)\n",
    "error = 1 - acc\n",
    "precision = TP/(TP+FP)\n",
    "recall = TP/(TP+FN)\n",
    "specificity = TN/(TN + FP)\n",
    "\n",
    "print(acc,error,precision, recall, specificity)"
   ]
  },
  {
   "cell_type": "code",
   "execution_count": null,
   "id": "bb659709-5e1d-4ed8-bb19-d46c4f52d4c0",
   "metadata": {},
   "outputs": [],
   "source": [
    "cat = [\n",
    "[20,15],\n",
    "[17,70]\n",
    "]\n",
    "dog = [\n",
    "[30,20],\n",
    "[13,60]\n",
    "]\n",
    "rabbit = [\n",
    "[40,10],\n",
    "[15,50]\n",
    "]\n",
    "\n",
    "for i in [cat,dog,rabbit]:\n",
    "\n",
    "    TP= i[0][0]\n",
    "    TN= i[1][1]\n",
    "    FN= i[0][1]\n",
    "    FP= i[1][0]\n",
    "    acc = (TP + TN)/(TP+TN+FP+FN)\n",
    "    error = 1 - acc\n",
    "    precision = TP/(TP+FP)\n",
    "    recall = TP/(TP+FN)\n",
    "    specificity = TN/(TN + FP)\n",
    "    print({\n",
    "        \"Accuracy\":acc, \"Error\":error, \"Precesion\":precision, \"Recall\": recall, \"Specificity\": specificity\n",
    "    })"
   ]
  },
  {
   "cell_type": "code",
   "execution_count": 46,
   "id": "a4e54b8b-8fac-4663-a656-38686e6ed67a",
   "metadata": {},
   "outputs": [],
   "source": [
    "df = pd.read_csv(\"csv_files/train.csv\")"
   ]
  },
  {
   "cell_type": "code",
   "execution_count": 47,
   "id": "9c27f24e-278e-4ca2-8fb3-d337ce0d6ed7",
   "metadata": {},
   "outputs": [
    {
     "name": "stdout",
     "output_type": "stream",
     "text": [
      "<class 'pandas.core.frame.DataFrame'>\n",
      "RangeIndex: 891 entries, 0 to 890\n",
      "Data columns (total 12 columns):\n",
      " #   Column       Non-Null Count  Dtype  \n",
      "---  ------       --------------  -----  \n",
      " 0   PassengerId  891 non-null    int64  \n",
      " 1   Survived     891 non-null    int64  \n",
      " 2   Pclass       891 non-null    int64  \n",
      " 3   Name         891 non-null    object \n",
      " 4   Sex          891 non-null    object \n",
      " 5   Age          714 non-null    float64\n",
      " 6   SibSp        891 non-null    int64  \n",
      " 7   Parch        891 non-null    int64  \n",
      " 8   Ticket       891 non-null    object \n",
      " 9   Fare         891 non-null    float64\n",
      " 10  Cabin        204 non-null    object \n",
      " 11  Embarked     889 non-null    object \n",
      "dtypes: float64(2), int64(5), object(5)\n",
      "memory usage: 83.7+ KB\n"
     ]
    }
   ],
   "source": [
    "df.info()"
   ]
  },
  {
   "cell_type": "code",
   "execution_count": 48,
   "id": "4ee0e9ac-33cd-46ff-8cd2-ae81a72af8b4",
   "metadata": {},
   "outputs": [
    {
     "data": {
      "text/plain": [
       "PassengerId      0\n",
       "Survived         0\n",
       "Pclass           0\n",
       "Name             0\n",
       "Sex              0\n",
       "Age            177\n",
       "SibSp            0\n",
       "Parch            0\n",
       "Ticket           0\n",
       "Fare             0\n",
       "Cabin          687\n",
       "Embarked         2\n",
       "dtype: int64"
      ]
     },
     "execution_count": 48,
     "metadata": {},
     "output_type": "execute_result"
    }
   ],
   "source": [
    "df.isna().sum()"
   ]
  },
  {
   "cell_type": "code",
   "execution_count": 49,
   "id": "1519564f-25c0-44d4-b91e-eae24abfa856",
   "metadata": {},
   "outputs": [
    {
     "data": {
      "text/plain": [
       "0"
      ]
     },
     "execution_count": 49,
     "metadata": {},
     "output_type": "execute_result"
    }
   ],
   "source": [
    "df.duplicated().sum()"
   ]
  },
  {
   "cell_type": "code",
   "execution_count": 50,
   "id": "29d761d4-48e4-4b6f-9472-a2a0f79a00e6",
   "metadata": {},
   "outputs": [
    {
     "data": {
      "text/plain": [
       "(891, 12)"
      ]
     },
     "execution_count": 50,
     "metadata": {},
     "output_type": "execute_result"
    }
   ],
   "source": [
    "df.shape"
   ]
  },
  {
   "cell_type": "code",
   "execution_count": 51,
   "id": "ab6bf7fa-4848-43e1-8a0e-190dffb9d628",
   "metadata": {},
   "outputs": [],
   "source": [
    "df[\"family\"] = [i+j for i,j in zip(df.SibSp,df.Parch)]"
   ]
  },
  {
   "cell_type": "code",
   "execution_count": 52,
   "id": "74d91f8c-9daa-4669-9195-a2cb42b9b9ef",
   "metadata": {},
   "outputs": [],
   "source": [
    "df.drop(columns=[\"SibSp\",\"Parch\"],inplace= True,axis=1)"
   ]
  },
  {
   "cell_type": "code",
   "execution_count": 53,
   "id": "38a3502a-5b38-4faf-9881-273b39c82080",
   "metadata": {},
   "outputs": [
    {
     "data": {
      "text/html": [
       "<div>\n",
       "<style scoped>\n",
       "    .dataframe tbody tr th:only-of-type {\n",
       "        vertical-align: middle;\n",
       "    }\n",
       "\n",
       "    .dataframe tbody tr th {\n",
       "        vertical-align: top;\n",
       "    }\n",
       "\n",
       "    .dataframe thead th {\n",
       "        text-align: right;\n",
       "    }\n",
       "</style>\n",
       "<table border=\"1\" class=\"dataframe\">\n",
       "  <thead>\n",
       "    <tr style=\"text-align: right;\">\n",
       "      <th></th>\n",
       "      <th>PassengerId</th>\n",
       "      <th>Survived</th>\n",
       "      <th>Pclass</th>\n",
       "      <th>Name</th>\n",
       "      <th>Sex</th>\n",
       "      <th>Age</th>\n",
       "      <th>Ticket</th>\n",
       "      <th>Fare</th>\n",
       "      <th>Cabin</th>\n",
       "      <th>Embarked</th>\n",
       "      <th>family</th>\n",
       "    </tr>\n",
       "  </thead>\n",
       "  <tbody>\n",
       "    <tr>\n",
       "      <th>0</th>\n",
       "      <td>1</td>\n",
       "      <td>0</td>\n",
       "      <td>3</td>\n",
       "      <td>Braund, Mr. Owen Harris</td>\n",
       "      <td>male</td>\n",
       "      <td>22.0</td>\n",
       "      <td>A/5 21171</td>\n",
       "      <td>7.2500</td>\n",
       "      <td>NaN</td>\n",
       "      <td>S</td>\n",
       "      <td>1</td>\n",
       "    </tr>\n",
       "    <tr>\n",
       "      <th>1</th>\n",
       "      <td>2</td>\n",
       "      <td>1</td>\n",
       "      <td>1</td>\n",
       "      <td>Cumings, Mrs. John Bradley (Florence Briggs Th...</td>\n",
       "      <td>female</td>\n",
       "      <td>38.0</td>\n",
       "      <td>PC 17599</td>\n",
       "      <td>71.2833</td>\n",
       "      <td>C85</td>\n",
       "      <td>C</td>\n",
       "      <td>1</td>\n",
       "    </tr>\n",
       "    <tr>\n",
       "      <th>2</th>\n",
       "      <td>3</td>\n",
       "      <td>1</td>\n",
       "      <td>3</td>\n",
       "      <td>Heikkinen, Miss. Laina</td>\n",
       "      <td>female</td>\n",
       "      <td>26.0</td>\n",
       "      <td>STON/O2. 3101282</td>\n",
       "      <td>7.9250</td>\n",
       "      <td>NaN</td>\n",
       "      <td>S</td>\n",
       "      <td>0</td>\n",
       "    </tr>\n",
       "    <tr>\n",
       "      <th>3</th>\n",
       "      <td>4</td>\n",
       "      <td>1</td>\n",
       "      <td>1</td>\n",
       "      <td>Futrelle, Mrs. Jacques Heath (Lily May Peel)</td>\n",
       "      <td>female</td>\n",
       "      <td>35.0</td>\n",
       "      <td>113803</td>\n",
       "      <td>53.1000</td>\n",
       "      <td>C123</td>\n",
       "      <td>S</td>\n",
       "      <td>1</td>\n",
       "    </tr>\n",
       "    <tr>\n",
       "      <th>4</th>\n",
       "      <td>5</td>\n",
       "      <td>0</td>\n",
       "      <td>3</td>\n",
       "      <td>Allen, Mr. William Henry</td>\n",
       "      <td>male</td>\n",
       "      <td>35.0</td>\n",
       "      <td>373450</td>\n",
       "      <td>8.0500</td>\n",
       "      <td>NaN</td>\n",
       "      <td>S</td>\n",
       "      <td>0</td>\n",
       "    </tr>\n",
       "    <tr>\n",
       "      <th>...</th>\n",
       "      <td>...</td>\n",
       "      <td>...</td>\n",
       "      <td>...</td>\n",
       "      <td>...</td>\n",
       "      <td>...</td>\n",
       "      <td>...</td>\n",
       "      <td>...</td>\n",
       "      <td>...</td>\n",
       "      <td>...</td>\n",
       "      <td>...</td>\n",
       "      <td>...</td>\n",
       "    </tr>\n",
       "    <tr>\n",
       "      <th>886</th>\n",
       "      <td>887</td>\n",
       "      <td>0</td>\n",
       "      <td>2</td>\n",
       "      <td>Montvila, Rev. Juozas</td>\n",
       "      <td>male</td>\n",
       "      <td>27.0</td>\n",
       "      <td>211536</td>\n",
       "      <td>13.0000</td>\n",
       "      <td>NaN</td>\n",
       "      <td>S</td>\n",
       "      <td>0</td>\n",
       "    </tr>\n",
       "    <tr>\n",
       "      <th>887</th>\n",
       "      <td>888</td>\n",
       "      <td>1</td>\n",
       "      <td>1</td>\n",
       "      <td>Graham, Miss. Margaret Edith</td>\n",
       "      <td>female</td>\n",
       "      <td>19.0</td>\n",
       "      <td>112053</td>\n",
       "      <td>30.0000</td>\n",
       "      <td>B42</td>\n",
       "      <td>S</td>\n",
       "      <td>0</td>\n",
       "    </tr>\n",
       "    <tr>\n",
       "      <th>888</th>\n",
       "      <td>889</td>\n",
       "      <td>0</td>\n",
       "      <td>3</td>\n",
       "      <td>Johnston, Miss. Catherine Helen \"Carrie\"</td>\n",
       "      <td>female</td>\n",
       "      <td>NaN</td>\n",
       "      <td>W./C. 6607</td>\n",
       "      <td>23.4500</td>\n",
       "      <td>NaN</td>\n",
       "      <td>S</td>\n",
       "      <td>3</td>\n",
       "    </tr>\n",
       "    <tr>\n",
       "      <th>889</th>\n",
       "      <td>890</td>\n",
       "      <td>1</td>\n",
       "      <td>1</td>\n",
       "      <td>Behr, Mr. Karl Howell</td>\n",
       "      <td>male</td>\n",
       "      <td>26.0</td>\n",
       "      <td>111369</td>\n",
       "      <td>30.0000</td>\n",
       "      <td>C148</td>\n",
       "      <td>C</td>\n",
       "      <td>0</td>\n",
       "    </tr>\n",
       "    <tr>\n",
       "      <th>890</th>\n",
       "      <td>891</td>\n",
       "      <td>0</td>\n",
       "      <td>3</td>\n",
       "      <td>Dooley, Mr. Patrick</td>\n",
       "      <td>male</td>\n",
       "      <td>32.0</td>\n",
       "      <td>370376</td>\n",
       "      <td>7.7500</td>\n",
       "      <td>NaN</td>\n",
       "      <td>Q</td>\n",
       "      <td>0</td>\n",
       "    </tr>\n",
       "  </tbody>\n",
       "</table>\n",
       "<p>891 rows × 11 columns</p>\n",
       "</div>"
      ],
      "text/plain": [
       "     PassengerId  Survived  Pclass  \\\n",
       "0              1         0       3   \n",
       "1              2         1       1   \n",
       "2              3         1       3   \n",
       "3              4         1       1   \n",
       "4              5         0       3   \n",
       "..           ...       ...     ...   \n",
       "886          887         0       2   \n",
       "887          888         1       1   \n",
       "888          889         0       3   \n",
       "889          890         1       1   \n",
       "890          891         0       3   \n",
       "\n",
       "                                                  Name     Sex   Age  \\\n",
       "0                              Braund, Mr. Owen Harris    male  22.0   \n",
       "1    Cumings, Mrs. John Bradley (Florence Briggs Th...  female  38.0   \n",
       "2                               Heikkinen, Miss. Laina  female  26.0   \n",
       "3         Futrelle, Mrs. Jacques Heath (Lily May Peel)  female  35.0   \n",
       "4                             Allen, Mr. William Henry    male  35.0   \n",
       "..                                                 ...     ...   ...   \n",
       "886                              Montvila, Rev. Juozas    male  27.0   \n",
       "887                       Graham, Miss. Margaret Edith  female  19.0   \n",
       "888           Johnston, Miss. Catherine Helen \"Carrie\"  female   NaN   \n",
       "889                              Behr, Mr. Karl Howell    male  26.0   \n",
       "890                                Dooley, Mr. Patrick    male  32.0   \n",
       "\n",
       "               Ticket     Fare Cabin Embarked  family  \n",
       "0           A/5 21171   7.2500   NaN        S       1  \n",
       "1            PC 17599  71.2833   C85        C       1  \n",
       "2    STON/O2. 3101282   7.9250   NaN        S       0  \n",
       "3              113803  53.1000  C123        S       1  \n",
       "4              373450   8.0500   NaN        S       0  \n",
       "..                ...      ...   ...      ...     ...  \n",
       "886            211536  13.0000   NaN        S       0  \n",
       "887            112053  30.0000   B42        S       0  \n",
       "888        W./C. 6607  23.4500   NaN        S       3  \n",
       "889            111369  30.0000  C148        C       0  \n",
       "890            370376   7.7500   NaN        Q       0  \n",
       "\n",
       "[891 rows x 11 columns]"
      ]
     },
     "execution_count": 53,
     "metadata": {},
     "output_type": "execute_result"
    }
   ],
   "source": [
    "df"
   ]
  },
  {
   "cell_type": "code",
   "execution_count": 54,
   "id": "f3f0eca7-3c86-407f-96e6-15cd76aa72af",
   "metadata": {},
   "outputs": [],
   "source": [
    "df.Embarked.fillna(df.Embarked.mode()[0],inplace=True)"
   ]
  },
  {
   "cell_type": "code",
   "execution_count": 70,
   "id": "880e9946-24d0-4d37-a8dd-9de3ee74247d",
   "metadata": {},
   "outputs": [
    {
     "data": {
      "text/plain": [
       "35.258349192618226"
      ]
     },
     "execution_count": 70,
     "metadata": {},
     "output_type": "execute_result"
    }
   ],
   "source": [
    "df.Age.mean()"
   ]
  },
  {
   "cell_type": "code",
   "execution_count": 55,
   "id": "4df09959-956a-465f-be17-b76c88e3fde4",
   "metadata": {},
   "outputs": [],
   "source": [
    "df.Age.fillna(df.Age.mean(),inplace=True)"
   ]
  },
  {
   "cell_type": "code",
   "execution_count": 56,
   "id": "1ad14155-30d4-481d-b9bc-cb0a772a52ba",
   "metadata": {},
   "outputs": [
    {
     "data": {
      "text/plain": [
       "PassengerId      0\n",
       "Survived         0\n",
       "Pclass           0\n",
       "Name             0\n",
       "Sex              0\n",
       "Age              0\n",
       "Ticket           0\n",
       "Fare             0\n",
       "Cabin          687\n",
       "Embarked         0\n",
       "family           0\n",
       "dtype: int64"
      ]
     },
     "execution_count": 56,
     "metadata": {},
     "output_type": "execute_result"
    }
   ],
   "source": [
    "df.isna().sum()"
   ]
  },
  {
   "cell_type": "code",
   "execution_count": 57,
   "id": "a265a6ca-f937-408b-bc29-491571c01bae",
   "metadata": {},
   "outputs": [],
   "source": [
    "df.dropna(inplace=True)"
   ]
  },
  {
   "cell_type": "code",
   "execution_count": null,
   "id": "33081abf-1e87-43fa-9a13-a80c95d99df2",
   "metadata": {},
   "outputs": [],
   "source": []
  },
  {
   "cell_type": "code",
   "execution_count": 58,
   "id": "fef5b0cb-d675-4204-a012-ddf808e3198b",
   "metadata": {},
   "outputs": [
    {
     "data": {
      "text/plain": [
       "(204, 11)"
      ]
     },
     "execution_count": 58,
     "metadata": {},
     "output_type": "execute_result"
    }
   ],
   "source": [
    "df.shape"
   ]
  },
  {
   "cell_type": "code",
   "execution_count": 59,
   "id": "75a8c537-987c-4f10-813d-55a81363f306",
   "metadata": {},
   "outputs": [],
   "source": [
    "df[\"Cab\"] = [x[0] for x in df.Cabin]"
   ]
  },
  {
   "cell_type": "code",
   "execution_count": 60,
   "id": "5bab7e50-ff8f-4f77-a21d-920bdc895298",
   "metadata": {},
   "outputs": [
    {
     "data": {
      "text/html": [
       "<div>\n",
       "<style scoped>\n",
       "    .dataframe tbody tr th:only-of-type {\n",
       "        vertical-align: middle;\n",
       "    }\n",
       "\n",
       "    .dataframe tbody tr th {\n",
       "        vertical-align: top;\n",
       "    }\n",
       "\n",
       "    .dataframe thead th {\n",
       "        text-align: right;\n",
       "    }\n",
       "</style>\n",
       "<table border=\"1\" class=\"dataframe\">\n",
       "  <thead>\n",
       "    <tr style=\"text-align: right;\">\n",
       "      <th></th>\n",
       "      <th>PassengerId</th>\n",
       "      <th>Survived</th>\n",
       "      <th>Pclass</th>\n",
       "      <th>Name</th>\n",
       "      <th>Sex</th>\n",
       "      <th>Age</th>\n",
       "      <th>Ticket</th>\n",
       "      <th>Fare</th>\n",
       "      <th>Cabin</th>\n",
       "      <th>Embarked</th>\n",
       "      <th>family</th>\n",
       "      <th>Cab</th>\n",
       "    </tr>\n",
       "  </thead>\n",
       "  <tbody>\n",
       "    <tr>\n",
       "      <th>1</th>\n",
       "      <td>2</td>\n",
       "      <td>1</td>\n",
       "      <td>1</td>\n",
       "      <td>Cumings, Mrs. John Bradley (Florence Briggs Th...</td>\n",
       "      <td>female</td>\n",
       "      <td>38.0</td>\n",
       "      <td>PC 17599</td>\n",
       "      <td>71.2833</td>\n",
       "      <td>C85</td>\n",
       "      <td>C</td>\n",
       "      <td>1</td>\n",
       "      <td>C</td>\n",
       "    </tr>\n",
       "    <tr>\n",
       "      <th>3</th>\n",
       "      <td>4</td>\n",
       "      <td>1</td>\n",
       "      <td>1</td>\n",
       "      <td>Futrelle, Mrs. Jacques Heath (Lily May Peel)</td>\n",
       "      <td>female</td>\n",
       "      <td>35.0</td>\n",
       "      <td>113803</td>\n",
       "      <td>53.1000</td>\n",
       "      <td>C123</td>\n",
       "      <td>S</td>\n",
       "      <td>1</td>\n",
       "      <td>C</td>\n",
       "    </tr>\n",
       "    <tr>\n",
       "      <th>6</th>\n",
       "      <td>7</td>\n",
       "      <td>0</td>\n",
       "      <td>1</td>\n",
       "      <td>McCarthy, Mr. Timothy J</td>\n",
       "      <td>male</td>\n",
       "      <td>54.0</td>\n",
       "      <td>17463</td>\n",
       "      <td>51.8625</td>\n",
       "      <td>E46</td>\n",
       "      <td>S</td>\n",
       "      <td>0</td>\n",
       "      <td>E</td>\n",
       "    </tr>\n",
       "    <tr>\n",
       "      <th>10</th>\n",
       "      <td>11</td>\n",
       "      <td>1</td>\n",
       "      <td>3</td>\n",
       "      <td>Sandstrom, Miss. Marguerite Rut</td>\n",
       "      <td>female</td>\n",
       "      <td>4.0</td>\n",
       "      <td>PP 9549</td>\n",
       "      <td>16.7000</td>\n",
       "      <td>G6</td>\n",
       "      <td>S</td>\n",
       "      <td>2</td>\n",
       "      <td>G</td>\n",
       "    </tr>\n",
       "    <tr>\n",
       "      <th>11</th>\n",
       "      <td>12</td>\n",
       "      <td>1</td>\n",
       "      <td>1</td>\n",
       "      <td>Bonnell, Miss. Elizabeth</td>\n",
       "      <td>female</td>\n",
       "      <td>58.0</td>\n",
       "      <td>113783</td>\n",
       "      <td>26.5500</td>\n",
       "      <td>C103</td>\n",
       "      <td>S</td>\n",
       "      <td>0</td>\n",
       "      <td>C</td>\n",
       "    </tr>\n",
       "    <tr>\n",
       "      <th>...</th>\n",
       "      <td>...</td>\n",
       "      <td>...</td>\n",
       "      <td>...</td>\n",
       "      <td>...</td>\n",
       "      <td>...</td>\n",
       "      <td>...</td>\n",
       "      <td>...</td>\n",
       "      <td>...</td>\n",
       "      <td>...</td>\n",
       "      <td>...</td>\n",
       "      <td>...</td>\n",
       "      <td>...</td>\n",
       "    </tr>\n",
       "    <tr>\n",
       "      <th>871</th>\n",
       "      <td>872</td>\n",
       "      <td>1</td>\n",
       "      <td>1</td>\n",
       "      <td>Beckwith, Mrs. Richard Leonard (Sallie Monypeny)</td>\n",
       "      <td>female</td>\n",
       "      <td>47.0</td>\n",
       "      <td>11751</td>\n",
       "      <td>52.5542</td>\n",
       "      <td>D35</td>\n",
       "      <td>S</td>\n",
       "      <td>2</td>\n",
       "      <td>D</td>\n",
       "    </tr>\n",
       "    <tr>\n",
       "      <th>872</th>\n",
       "      <td>873</td>\n",
       "      <td>0</td>\n",
       "      <td>1</td>\n",
       "      <td>Carlsson, Mr. Frans Olof</td>\n",
       "      <td>male</td>\n",
       "      <td>33.0</td>\n",
       "      <td>695</td>\n",
       "      <td>5.0000</td>\n",
       "      <td>B51 B53 B55</td>\n",
       "      <td>S</td>\n",
       "      <td>0</td>\n",
       "      <td>B</td>\n",
       "    </tr>\n",
       "    <tr>\n",
       "      <th>879</th>\n",
       "      <td>880</td>\n",
       "      <td>1</td>\n",
       "      <td>1</td>\n",
       "      <td>Potter, Mrs. Thomas Jr (Lily Alexenia Wilson)</td>\n",
       "      <td>female</td>\n",
       "      <td>56.0</td>\n",
       "      <td>11767</td>\n",
       "      <td>83.1583</td>\n",
       "      <td>C50</td>\n",
       "      <td>C</td>\n",
       "      <td>1</td>\n",
       "      <td>C</td>\n",
       "    </tr>\n",
       "    <tr>\n",
       "      <th>887</th>\n",
       "      <td>888</td>\n",
       "      <td>1</td>\n",
       "      <td>1</td>\n",
       "      <td>Graham, Miss. Margaret Edith</td>\n",
       "      <td>female</td>\n",
       "      <td>19.0</td>\n",
       "      <td>112053</td>\n",
       "      <td>30.0000</td>\n",
       "      <td>B42</td>\n",
       "      <td>S</td>\n",
       "      <td>0</td>\n",
       "      <td>B</td>\n",
       "    </tr>\n",
       "    <tr>\n",
       "      <th>889</th>\n",
       "      <td>890</td>\n",
       "      <td>1</td>\n",
       "      <td>1</td>\n",
       "      <td>Behr, Mr. Karl Howell</td>\n",
       "      <td>male</td>\n",
       "      <td>26.0</td>\n",
       "      <td>111369</td>\n",
       "      <td>30.0000</td>\n",
       "      <td>C148</td>\n",
       "      <td>C</td>\n",
       "      <td>0</td>\n",
       "      <td>C</td>\n",
       "    </tr>\n",
       "  </tbody>\n",
       "</table>\n",
       "<p>204 rows × 12 columns</p>\n",
       "</div>"
      ],
      "text/plain": [
       "     PassengerId  Survived  Pclass  \\\n",
       "1              2         1       1   \n",
       "3              4         1       1   \n",
       "6              7         0       1   \n",
       "10            11         1       3   \n",
       "11            12         1       1   \n",
       "..           ...       ...     ...   \n",
       "871          872         1       1   \n",
       "872          873         0       1   \n",
       "879          880         1       1   \n",
       "887          888         1       1   \n",
       "889          890         1       1   \n",
       "\n",
       "                                                  Name     Sex   Age  \\\n",
       "1    Cumings, Mrs. John Bradley (Florence Briggs Th...  female  38.0   \n",
       "3         Futrelle, Mrs. Jacques Heath (Lily May Peel)  female  35.0   \n",
       "6                              McCarthy, Mr. Timothy J    male  54.0   \n",
       "10                     Sandstrom, Miss. Marguerite Rut  female   4.0   \n",
       "11                            Bonnell, Miss. Elizabeth  female  58.0   \n",
       "..                                                 ...     ...   ...   \n",
       "871   Beckwith, Mrs. Richard Leonard (Sallie Monypeny)  female  47.0   \n",
       "872                           Carlsson, Mr. Frans Olof    male  33.0   \n",
       "879      Potter, Mrs. Thomas Jr (Lily Alexenia Wilson)  female  56.0   \n",
       "887                       Graham, Miss. Margaret Edith  female  19.0   \n",
       "889                              Behr, Mr. Karl Howell    male  26.0   \n",
       "\n",
       "       Ticket     Fare        Cabin Embarked  family Cab  \n",
       "1    PC 17599  71.2833          C85        C       1   C  \n",
       "3      113803  53.1000         C123        S       1   C  \n",
       "6       17463  51.8625          E46        S       0   E  \n",
       "10    PP 9549  16.7000           G6        S       2   G  \n",
       "11     113783  26.5500         C103        S       0   C  \n",
       "..        ...      ...          ...      ...     ...  ..  \n",
       "871     11751  52.5542          D35        S       2   D  \n",
       "872       695   5.0000  B51 B53 B55        S       0   B  \n",
       "879     11767  83.1583          C50        C       1   C  \n",
       "887    112053  30.0000          B42        S       0   B  \n",
       "889    111369  30.0000         C148        C       0   C  \n",
       "\n",
       "[204 rows x 12 columns]"
      ]
     },
     "execution_count": 60,
     "metadata": {},
     "output_type": "execute_result"
    }
   ],
   "source": [
    "df"
   ]
  },
  {
   "cell_type": "code",
   "execution_count": 78,
   "id": "d526e6b6-a6dd-49b0-8c3c-de0e435ea760",
   "metadata": {},
   "outputs": [],
   "source": [
    "# df.drop(columns=[\"Name\",\"Ticket\",\"PassengerId\"],inplace=True,axis=1)\n",
    "df_dummy= pd.get_dummies(df,columns=['Sex', 'Pclass', 'Embarked','Cab'])\n"
   ]
  },
  {
   "cell_type": "code",
   "execution_count": 79,
   "id": "f0b63e86-4bb1-43c8-be0f-4b551ffdb342",
   "metadata": {},
   "outputs": [
    {
     "data": {
      "text/html": [
       "<div>\n",
       "<style scoped>\n",
       "    .dataframe tbody tr th:only-of-type {\n",
       "        vertical-align: middle;\n",
       "    }\n",
       "\n",
       "    .dataframe tbody tr th {\n",
       "        vertical-align: top;\n",
       "    }\n",
       "\n",
       "    .dataframe thead th {\n",
       "        text-align: right;\n",
       "    }\n",
       "</style>\n",
       "<table border=\"1\" class=\"dataframe\">\n",
       "  <thead>\n",
       "    <tr style=\"text-align: right;\">\n",
       "      <th></th>\n",
       "      <th>Survived</th>\n",
       "      <th>Age</th>\n",
       "      <th>Fare</th>\n",
       "      <th>Cabin</th>\n",
       "      <th>family</th>\n",
       "      <th>Sex_female</th>\n",
       "      <th>Sex_male</th>\n",
       "      <th>Pclass_1</th>\n",
       "      <th>Pclass_2</th>\n",
       "      <th>Pclass_3</th>\n",
       "      <th>...</th>\n",
       "      <th>Embarked_Q</th>\n",
       "      <th>Embarked_S</th>\n",
       "      <th>Cab_A</th>\n",
       "      <th>Cab_B</th>\n",
       "      <th>Cab_C</th>\n",
       "      <th>Cab_D</th>\n",
       "      <th>Cab_E</th>\n",
       "      <th>Cab_F</th>\n",
       "      <th>Cab_G</th>\n",
       "      <th>Cab_T</th>\n",
       "    </tr>\n",
       "  </thead>\n",
       "  <tbody>\n",
       "    <tr>\n",
       "      <th>1</th>\n",
       "      <td>1</td>\n",
       "      <td>38.0</td>\n",
       "      <td>71.2833</td>\n",
       "      <td>C85</td>\n",
       "      <td>1</td>\n",
       "      <td>True</td>\n",
       "      <td>False</td>\n",
       "      <td>True</td>\n",
       "      <td>False</td>\n",
       "      <td>False</td>\n",
       "      <td>...</td>\n",
       "      <td>False</td>\n",
       "      <td>False</td>\n",
       "      <td>False</td>\n",
       "      <td>False</td>\n",
       "      <td>True</td>\n",
       "      <td>False</td>\n",
       "      <td>False</td>\n",
       "      <td>False</td>\n",
       "      <td>False</td>\n",
       "      <td>False</td>\n",
       "    </tr>\n",
       "    <tr>\n",
       "      <th>3</th>\n",
       "      <td>1</td>\n",
       "      <td>35.0</td>\n",
       "      <td>53.1000</td>\n",
       "      <td>C123</td>\n",
       "      <td>1</td>\n",
       "      <td>True</td>\n",
       "      <td>False</td>\n",
       "      <td>True</td>\n",
       "      <td>False</td>\n",
       "      <td>False</td>\n",
       "      <td>...</td>\n",
       "      <td>False</td>\n",
       "      <td>True</td>\n",
       "      <td>False</td>\n",
       "      <td>False</td>\n",
       "      <td>True</td>\n",
       "      <td>False</td>\n",
       "      <td>False</td>\n",
       "      <td>False</td>\n",
       "      <td>False</td>\n",
       "      <td>False</td>\n",
       "    </tr>\n",
       "    <tr>\n",
       "      <th>6</th>\n",
       "      <td>0</td>\n",
       "      <td>54.0</td>\n",
       "      <td>51.8625</td>\n",
       "      <td>E46</td>\n",
       "      <td>0</td>\n",
       "      <td>False</td>\n",
       "      <td>True</td>\n",
       "      <td>True</td>\n",
       "      <td>False</td>\n",
       "      <td>False</td>\n",
       "      <td>...</td>\n",
       "      <td>False</td>\n",
       "      <td>True</td>\n",
       "      <td>False</td>\n",
       "      <td>False</td>\n",
       "      <td>False</td>\n",
       "      <td>False</td>\n",
       "      <td>True</td>\n",
       "      <td>False</td>\n",
       "      <td>False</td>\n",
       "      <td>False</td>\n",
       "    </tr>\n",
       "    <tr>\n",
       "      <th>10</th>\n",
       "      <td>1</td>\n",
       "      <td>4.0</td>\n",
       "      <td>16.7000</td>\n",
       "      <td>G6</td>\n",
       "      <td>2</td>\n",
       "      <td>True</td>\n",
       "      <td>False</td>\n",
       "      <td>False</td>\n",
       "      <td>False</td>\n",
       "      <td>True</td>\n",
       "      <td>...</td>\n",
       "      <td>False</td>\n",
       "      <td>True</td>\n",
       "      <td>False</td>\n",
       "      <td>False</td>\n",
       "      <td>False</td>\n",
       "      <td>False</td>\n",
       "      <td>False</td>\n",
       "      <td>False</td>\n",
       "      <td>True</td>\n",
       "      <td>False</td>\n",
       "    </tr>\n",
       "    <tr>\n",
       "      <th>11</th>\n",
       "      <td>1</td>\n",
       "      <td>58.0</td>\n",
       "      <td>26.5500</td>\n",
       "      <td>C103</td>\n",
       "      <td>0</td>\n",
       "      <td>True</td>\n",
       "      <td>False</td>\n",
       "      <td>True</td>\n",
       "      <td>False</td>\n",
       "      <td>False</td>\n",
       "      <td>...</td>\n",
       "      <td>False</td>\n",
       "      <td>True</td>\n",
       "      <td>False</td>\n",
       "      <td>False</td>\n",
       "      <td>True</td>\n",
       "      <td>False</td>\n",
       "      <td>False</td>\n",
       "      <td>False</td>\n",
       "      <td>False</td>\n",
       "      <td>False</td>\n",
       "    </tr>\n",
       "    <tr>\n",
       "      <th>...</th>\n",
       "      <td>...</td>\n",
       "      <td>...</td>\n",
       "      <td>...</td>\n",
       "      <td>...</td>\n",
       "      <td>...</td>\n",
       "      <td>...</td>\n",
       "      <td>...</td>\n",
       "      <td>...</td>\n",
       "      <td>...</td>\n",
       "      <td>...</td>\n",
       "      <td>...</td>\n",
       "      <td>...</td>\n",
       "      <td>...</td>\n",
       "      <td>...</td>\n",
       "      <td>...</td>\n",
       "      <td>...</td>\n",
       "      <td>...</td>\n",
       "      <td>...</td>\n",
       "      <td>...</td>\n",
       "      <td>...</td>\n",
       "      <td>...</td>\n",
       "    </tr>\n",
       "    <tr>\n",
       "      <th>871</th>\n",
       "      <td>1</td>\n",
       "      <td>47.0</td>\n",
       "      <td>52.5542</td>\n",
       "      <td>D35</td>\n",
       "      <td>2</td>\n",
       "      <td>True</td>\n",
       "      <td>False</td>\n",
       "      <td>True</td>\n",
       "      <td>False</td>\n",
       "      <td>False</td>\n",
       "      <td>...</td>\n",
       "      <td>False</td>\n",
       "      <td>True</td>\n",
       "      <td>False</td>\n",
       "      <td>False</td>\n",
       "      <td>False</td>\n",
       "      <td>True</td>\n",
       "      <td>False</td>\n",
       "      <td>False</td>\n",
       "      <td>False</td>\n",
       "      <td>False</td>\n",
       "    </tr>\n",
       "    <tr>\n",
       "      <th>872</th>\n",
       "      <td>0</td>\n",
       "      <td>33.0</td>\n",
       "      <td>5.0000</td>\n",
       "      <td>B51 B53 B55</td>\n",
       "      <td>0</td>\n",
       "      <td>False</td>\n",
       "      <td>True</td>\n",
       "      <td>True</td>\n",
       "      <td>False</td>\n",
       "      <td>False</td>\n",
       "      <td>...</td>\n",
       "      <td>False</td>\n",
       "      <td>True</td>\n",
       "      <td>False</td>\n",
       "      <td>True</td>\n",
       "      <td>False</td>\n",
       "      <td>False</td>\n",
       "      <td>False</td>\n",
       "      <td>False</td>\n",
       "      <td>False</td>\n",
       "      <td>False</td>\n",
       "    </tr>\n",
       "    <tr>\n",
       "      <th>879</th>\n",
       "      <td>1</td>\n",
       "      <td>56.0</td>\n",
       "      <td>83.1583</td>\n",
       "      <td>C50</td>\n",
       "      <td>1</td>\n",
       "      <td>True</td>\n",
       "      <td>False</td>\n",
       "      <td>True</td>\n",
       "      <td>False</td>\n",
       "      <td>False</td>\n",
       "      <td>...</td>\n",
       "      <td>False</td>\n",
       "      <td>False</td>\n",
       "      <td>False</td>\n",
       "      <td>False</td>\n",
       "      <td>True</td>\n",
       "      <td>False</td>\n",
       "      <td>False</td>\n",
       "      <td>False</td>\n",
       "      <td>False</td>\n",
       "      <td>False</td>\n",
       "    </tr>\n",
       "    <tr>\n",
       "      <th>887</th>\n",
       "      <td>1</td>\n",
       "      <td>19.0</td>\n",
       "      <td>30.0000</td>\n",
       "      <td>B42</td>\n",
       "      <td>0</td>\n",
       "      <td>True</td>\n",
       "      <td>False</td>\n",
       "      <td>True</td>\n",
       "      <td>False</td>\n",
       "      <td>False</td>\n",
       "      <td>...</td>\n",
       "      <td>False</td>\n",
       "      <td>True</td>\n",
       "      <td>False</td>\n",
       "      <td>True</td>\n",
       "      <td>False</td>\n",
       "      <td>False</td>\n",
       "      <td>False</td>\n",
       "      <td>False</td>\n",
       "      <td>False</td>\n",
       "      <td>False</td>\n",
       "    </tr>\n",
       "    <tr>\n",
       "      <th>889</th>\n",
       "      <td>1</td>\n",
       "      <td>26.0</td>\n",
       "      <td>30.0000</td>\n",
       "      <td>C148</td>\n",
       "      <td>0</td>\n",
       "      <td>False</td>\n",
       "      <td>True</td>\n",
       "      <td>True</td>\n",
       "      <td>False</td>\n",
       "      <td>False</td>\n",
       "      <td>...</td>\n",
       "      <td>False</td>\n",
       "      <td>False</td>\n",
       "      <td>False</td>\n",
       "      <td>False</td>\n",
       "      <td>True</td>\n",
       "      <td>False</td>\n",
       "      <td>False</td>\n",
       "      <td>False</td>\n",
       "      <td>False</td>\n",
       "      <td>False</td>\n",
       "    </tr>\n",
       "  </tbody>\n",
       "</table>\n",
       "<p>204 rows × 21 columns</p>\n",
       "</div>"
      ],
      "text/plain": [
       "     Survived   Age     Fare        Cabin  family  Sex_female  Sex_male  \\\n",
       "1           1  38.0  71.2833          C85       1        True     False   \n",
       "3           1  35.0  53.1000         C123       1        True     False   \n",
       "6           0  54.0  51.8625          E46       0       False      True   \n",
       "10          1   4.0  16.7000           G6       2        True     False   \n",
       "11          1  58.0  26.5500         C103       0        True     False   \n",
       "..        ...   ...      ...          ...     ...         ...       ...   \n",
       "871         1  47.0  52.5542          D35       2        True     False   \n",
       "872         0  33.0   5.0000  B51 B53 B55       0       False      True   \n",
       "879         1  56.0  83.1583          C50       1        True     False   \n",
       "887         1  19.0  30.0000          B42       0        True     False   \n",
       "889         1  26.0  30.0000         C148       0       False      True   \n",
       "\n",
       "     Pclass_1  Pclass_2  Pclass_3  ...  Embarked_Q  Embarked_S  Cab_A  Cab_B  \\\n",
       "1        True     False     False  ...       False       False  False  False   \n",
       "3        True     False     False  ...       False        True  False  False   \n",
       "6        True     False     False  ...       False        True  False  False   \n",
       "10      False     False      True  ...       False        True  False  False   \n",
       "11       True     False     False  ...       False        True  False  False   \n",
       "..        ...       ...       ...  ...         ...         ...    ...    ...   \n",
       "871      True     False     False  ...       False        True  False  False   \n",
       "872      True     False     False  ...       False        True  False   True   \n",
       "879      True     False     False  ...       False       False  False  False   \n",
       "887      True     False     False  ...       False        True  False   True   \n",
       "889      True     False     False  ...       False       False  False  False   \n",
       "\n",
       "     Cab_C  Cab_D  Cab_E  Cab_F  Cab_G  Cab_T  \n",
       "1     True  False  False  False  False  False  \n",
       "3     True  False  False  False  False  False  \n",
       "6    False  False   True  False  False  False  \n",
       "10   False  False  False  False   True  False  \n",
       "11    True  False  False  False  False  False  \n",
       "..     ...    ...    ...    ...    ...    ...  \n",
       "871  False   True  False  False  False  False  \n",
       "872  False  False  False  False  False  False  \n",
       "879   True  False  False  False  False  False  \n",
       "887  False  False  False  False  False  False  \n",
       "889   True  False  False  False  False  False  \n",
       "\n",
       "[204 rows x 21 columns]"
      ]
     },
     "execution_count": 79,
     "metadata": {},
     "output_type": "execute_result"
    }
   ],
   "source": [
    "df_dummy"
   ]
  },
  {
   "cell_type": "code",
   "execution_count": 80,
   "id": "4adee906-aeff-459a-a978-d185678f96a7",
   "metadata": {},
   "outputs": [],
   "source": [
    "df_dummy.drop(columns=[\"Cabin\"],inplace=True)"
   ]
  },
  {
   "cell_type": "code",
   "execution_count": 81,
   "id": "414e5133-c4bf-4587-962f-e20a04cfacec",
   "metadata": {},
   "outputs": [
    {
     "data": {
      "text/plain": [
       "Index(['Survived', 'Age', 'Fare', 'family', 'Sex_female', 'Sex_male',\n",
       "       'Pclass_1', 'Pclass_2', 'Pclass_3', 'Embarked_C', 'Embarked_Q',\n",
       "       'Embarked_S', 'Cab_A', 'Cab_B', 'Cab_C', 'Cab_D', 'Cab_E', 'Cab_F',\n",
       "       'Cab_G', 'Cab_T'],\n",
       "      dtype='object')"
      ]
     },
     "execution_count": 81,
     "metadata": {},
     "output_type": "execute_result"
    }
   ],
   "source": [
    "df_dummy.columns"
   ]
  },
  {
   "cell_type": "code",
   "execution_count": null,
   "id": "18aa8645-10bf-492a-83b0-82997fcfb44d",
   "metadata": {},
   "outputs": [],
   "source": []
  },
  {
   "cell_type": "code",
   "execution_count": 82,
   "id": "0042fa8a-0a01-4d02-8142-eaacfaae555a",
   "metadata": {},
   "outputs": [
    {
     "data": {
      "text/html": [
       "<div>\n",
       "<style scoped>\n",
       "    .dataframe tbody tr th:only-of-type {\n",
       "        vertical-align: middle;\n",
       "    }\n",
       "\n",
       "    .dataframe tbody tr th {\n",
       "        vertical-align: top;\n",
       "    }\n",
       "\n",
       "    .dataframe thead th {\n",
       "        text-align: right;\n",
       "    }\n",
       "</style>\n",
       "<table border=\"1\" class=\"dataframe\">\n",
       "  <thead>\n",
       "    <tr style=\"text-align: right;\">\n",
       "      <th></th>\n",
       "      <th>Age</th>\n",
       "      <th>Fare</th>\n",
       "      <th>family</th>\n",
       "      <th>Sex_female</th>\n",
       "      <th>Sex_male</th>\n",
       "      <th>Pclass_1</th>\n",
       "      <th>Pclass_2</th>\n",
       "      <th>Pclass_3</th>\n",
       "      <th>Embarked_C</th>\n",
       "      <th>Embarked_Q</th>\n",
       "      <th>Embarked_S</th>\n",
       "      <th>Cab_A</th>\n",
       "      <th>Cab_B</th>\n",
       "      <th>Cab_C</th>\n",
       "      <th>Cab_D</th>\n",
       "      <th>Cab_E</th>\n",
       "      <th>Cab_F</th>\n",
       "      <th>Cab_G</th>\n",
       "      <th>Cab_T</th>\n",
       "    </tr>\n",
       "  </thead>\n",
       "  <tbody>\n",
       "    <tr>\n",
       "      <th>1</th>\n",
       "      <td>38.0</td>\n",
       "      <td>71.2833</td>\n",
       "      <td>1</td>\n",
       "      <td>True</td>\n",
       "      <td>False</td>\n",
       "      <td>True</td>\n",
       "      <td>False</td>\n",
       "      <td>False</td>\n",
       "      <td>True</td>\n",
       "      <td>False</td>\n",
       "      <td>False</td>\n",
       "      <td>False</td>\n",
       "      <td>False</td>\n",
       "      <td>True</td>\n",
       "      <td>False</td>\n",
       "      <td>False</td>\n",
       "      <td>False</td>\n",
       "      <td>False</td>\n",
       "      <td>False</td>\n",
       "    </tr>\n",
       "    <tr>\n",
       "      <th>3</th>\n",
       "      <td>35.0</td>\n",
       "      <td>53.1000</td>\n",
       "      <td>1</td>\n",
       "      <td>True</td>\n",
       "      <td>False</td>\n",
       "      <td>True</td>\n",
       "      <td>False</td>\n",
       "      <td>False</td>\n",
       "      <td>False</td>\n",
       "      <td>False</td>\n",
       "      <td>True</td>\n",
       "      <td>False</td>\n",
       "      <td>False</td>\n",
       "      <td>True</td>\n",
       "      <td>False</td>\n",
       "      <td>False</td>\n",
       "      <td>False</td>\n",
       "      <td>False</td>\n",
       "      <td>False</td>\n",
       "    </tr>\n",
       "    <tr>\n",
       "      <th>6</th>\n",
       "      <td>54.0</td>\n",
       "      <td>51.8625</td>\n",
       "      <td>0</td>\n",
       "      <td>False</td>\n",
       "      <td>True</td>\n",
       "      <td>True</td>\n",
       "      <td>False</td>\n",
       "      <td>False</td>\n",
       "      <td>False</td>\n",
       "      <td>False</td>\n",
       "      <td>True</td>\n",
       "      <td>False</td>\n",
       "      <td>False</td>\n",
       "      <td>False</td>\n",
       "      <td>False</td>\n",
       "      <td>True</td>\n",
       "      <td>False</td>\n",
       "      <td>False</td>\n",
       "      <td>False</td>\n",
       "    </tr>\n",
       "    <tr>\n",
       "      <th>10</th>\n",
       "      <td>4.0</td>\n",
       "      <td>16.7000</td>\n",
       "      <td>2</td>\n",
       "      <td>True</td>\n",
       "      <td>False</td>\n",
       "      <td>False</td>\n",
       "      <td>False</td>\n",
       "      <td>True</td>\n",
       "      <td>False</td>\n",
       "      <td>False</td>\n",
       "      <td>True</td>\n",
       "      <td>False</td>\n",
       "      <td>False</td>\n",
       "      <td>False</td>\n",
       "      <td>False</td>\n",
       "      <td>False</td>\n",
       "      <td>False</td>\n",
       "      <td>True</td>\n",
       "      <td>False</td>\n",
       "    </tr>\n",
       "    <tr>\n",
       "      <th>11</th>\n",
       "      <td>58.0</td>\n",
       "      <td>26.5500</td>\n",
       "      <td>0</td>\n",
       "      <td>True</td>\n",
       "      <td>False</td>\n",
       "      <td>True</td>\n",
       "      <td>False</td>\n",
       "      <td>False</td>\n",
       "      <td>False</td>\n",
       "      <td>False</td>\n",
       "      <td>True</td>\n",
       "      <td>False</td>\n",
       "      <td>False</td>\n",
       "      <td>True</td>\n",
       "      <td>False</td>\n",
       "      <td>False</td>\n",
       "      <td>False</td>\n",
       "      <td>False</td>\n",
       "      <td>False</td>\n",
       "    </tr>\n",
       "    <tr>\n",
       "      <th>...</th>\n",
       "      <td>...</td>\n",
       "      <td>...</td>\n",
       "      <td>...</td>\n",
       "      <td>...</td>\n",
       "      <td>...</td>\n",
       "      <td>...</td>\n",
       "      <td>...</td>\n",
       "      <td>...</td>\n",
       "      <td>...</td>\n",
       "      <td>...</td>\n",
       "      <td>...</td>\n",
       "      <td>...</td>\n",
       "      <td>...</td>\n",
       "      <td>...</td>\n",
       "      <td>...</td>\n",
       "      <td>...</td>\n",
       "      <td>...</td>\n",
       "      <td>...</td>\n",
       "      <td>...</td>\n",
       "    </tr>\n",
       "    <tr>\n",
       "      <th>871</th>\n",
       "      <td>47.0</td>\n",
       "      <td>52.5542</td>\n",
       "      <td>2</td>\n",
       "      <td>True</td>\n",
       "      <td>False</td>\n",
       "      <td>True</td>\n",
       "      <td>False</td>\n",
       "      <td>False</td>\n",
       "      <td>False</td>\n",
       "      <td>False</td>\n",
       "      <td>True</td>\n",
       "      <td>False</td>\n",
       "      <td>False</td>\n",
       "      <td>False</td>\n",
       "      <td>True</td>\n",
       "      <td>False</td>\n",
       "      <td>False</td>\n",
       "      <td>False</td>\n",
       "      <td>False</td>\n",
       "    </tr>\n",
       "    <tr>\n",
       "      <th>872</th>\n",
       "      <td>33.0</td>\n",
       "      <td>5.0000</td>\n",
       "      <td>0</td>\n",
       "      <td>False</td>\n",
       "      <td>True</td>\n",
       "      <td>True</td>\n",
       "      <td>False</td>\n",
       "      <td>False</td>\n",
       "      <td>False</td>\n",
       "      <td>False</td>\n",
       "      <td>True</td>\n",
       "      <td>False</td>\n",
       "      <td>True</td>\n",
       "      <td>False</td>\n",
       "      <td>False</td>\n",
       "      <td>False</td>\n",
       "      <td>False</td>\n",
       "      <td>False</td>\n",
       "      <td>False</td>\n",
       "    </tr>\n",
       "    <tr>\n",
       "      <th>879</th>\n",
       "      <td>56.0</td>\n",
       "      <td>83.1583</td>\n",
       "      <td>1</td>\n",
       "      <td>True</td>\n",
       "      <td>False</td>\n",
       "      <td>True</td>\n",
       "      <td>False</td>\n",
       "      <td>False</td>\n",
       "      <td>True</td>\n",
       "      <td>False</td>\n",
       "      <td>False</td>\n",
       "      <td>False</td>\n",
       "      <td>False</td>\n",
       "      <td>True</td>\n",
       "      <td>False</td>\n",
       "      <td>False</td>\n",
       "      <td>False</td>\n",
       "      <td>False</td>\n",
       "      <td>False</td>\n",
       "    </tr>\n",
       "    <tr>\n",
       "      <th>887</th>\n",
       "      <td>19.0</td>\n",
       "      <td>30.0000</td>\n",
       "      <td>0</td>\n",
       "      <td>True</td>\n",
       "      <td>False</td>\n",
       "      <td>True</td>\n",
       "      <td>False</td>\n",
       "      <td>False</td>\n",
       "      <td>False</td>\n",
       "      <td>False</td>\n",
       "      <td>True</td>\n",
       "      <td>False</td>\n",
       "      <td>True</td>\n",
       "      <td>False</td>\n",
       "      <td>False</td>\n",
       "      <td>False</td>\n",
       "      <td>False</td>\n",
       "      <td>False</td>\n",
       "      <td>False</td>\n",
       "    </tr>\n",
       "    <tr>\n",
       "      <th>889</th>\n",
       "      <td>26.0</td>\n",
       "      <td>30.0000</td>\n",
       "      <td>0</td>\n",
       "      <td>False</td>\n",
       "      <td>True</td>\n",
       "      <td>True</td>\n",
       "      <td>False</td>\n",
       "      <td>False</td>\n",
       "      <td>True</td>\n",
       "      <td>False</td>\n",
       "      <td>False</td>\n",
       "      <td>False</td>\n",
       "      <td>False</td>\n",
       "      <td>True</td>\n",
       "      <td>False</td>\n",
       "      <td>False</td>\n",
       "      <td>False</td>\n",
       "      <td>False</td>\n",
       "      <td>False</td>\n",
       "    </tr>\n",
       "  </tbody>\n",
       "</table>\n",
       "<p>204 rows × 19 columns</p>\n",
       "</div>"
      ],
      "text/plain": [
       "      Age     Fare  family  Sex_female  Sex_male  Pclass_1  Pclass_2  \\\n",
       "1    38.0  71.2833       1        True     False      True     False   \n",
       "3    35.0  53.1000       1        True     False      True     False   \n",
       "6    54.0  51.8625       0       False      True      True     False   \n",
       "10    4.0  16.7000       2        True     False     False     False   \n",
       "11   58.0  26.5500       0        True     False      True     False   \n",
       "..    ...      ...     ...         ...       ...       ...       ...   \n",
       "871  47.0  52.5542       2        True     False      True     False   \n",
       "872  33.0   5.0000       0       False      True      True     False   \n",
       "879  56.0  83.1583       1        True     False      True     False   \n",
       "887  19.0  30.0000       0        True     False      True     False   \n",
       "889  26.0  30.0000       0       False      True      True     False   \n",
       "\n",
       "     Pclass_3  Embarked_C  Embarked_Q  Embarked_S  Cab_A  Cab_B  Cab_C  Cab_D  \\\n",
       "1       False        True       False       False  False  False   True  False   \n",
       "3       False       False       False        True  False  False   True  False   \n",
       "6       False       False       False        True  False  False  False  False   \n",
       "10       True       False       False        True  False  False  False  False   \n",
       "11      False       False       False        True  False  False   True  False   \n",
       "..        ...         ...         ...         ...    ...    ...    ...    ...   \n",
       "871     False       False       False        True  False  False  False   True   \n",
       "872     False       False       False        True  False   True  False  False   \n",
       "879     False        True       False       False  False  False   True  False   \n",
       "887     False       False       False        True  False   True  False  False   \n",
       "889     False        True       False       False  False  False   True  False   \n",
       "\n",
       "     Cab_E  Cab_F  Cab_G  Cab_T  \n",
       "1    False  False  False  False  \n",
       "3    False  False  False  False  \n",
       "6     True  False  False  False  \n",
       "10   False  False   True  False  \n",
       "11   False  False  False  False  \n",
       "..     ...    ...    ...    ...  \n",
       "871  False  False  False  False  \n",
       "872  False  False  False  False  \n",
       "879  False  False  False  False  \n",
       "887  False  False  False  False  \n",
       "889  False  False  False  False  \n",
       "\n",
       "[204 rows x 19 columns]"
      ]
     },
     "execution_count": 82,
     "metadata": {},
     "output_type": "execute_result"
    }
   ],
   "source": [
    "x = df_dummy.drop(columns=[\"Survived\"],axis=1)\n",
    "y = df_dummy.Survived\n",
    "x"
   ]
  },
  {
   "cell_type": "code",
   "execution_count": 83,
   "id": "f18f7774-4f5f-4cd0-8504-334e8a60ec1b",
   "metadata": {},
   "outputs": [
    {
     "name": "stdout",
     "output_type": "stream",
     "text": [
      "[[ 3  4]\n",
      " [ 8 26]]\n",
      "0.7073170731707317\n",
      "0.8666666666666667\n",
      "0.7647058823529411\n",
      "              precision    recall  f1-score   support\n",
      "\n",
      "           0       0.27      0.43      0.33         7\n",
      "           1       0.87      0.76      0.81        34\n",
      "\n",
      "    accuracy                           0.71        41\n",
      "   macro avg       0.57      0.60      0.57        41\n",
      "weighted avg       0.77      0.71      0.73        41\n",
      "\n"
     ]
    }
   ],
   "source": [
    "from sklearn.neighbors import KNeighborsClassifier\n",
    "from sklearn.metrics import confusion_matrix, accuracy_score,precision_score, recall_score, classification_report\n",
    "\n",
    "x_train, x_test, y_train, y_test = train_test_split(x,y,test_size=0.2,random_state=3)\n",
    "knn = KNeighborsClassifier(n_neighbors=5)\n",
    "knn.fit(x_train,y_train)\n",
    "y_pred = knn.predict(x_test)\n",
    "print(confusion_matrix(y_pred,y_test))\n",
    "print(accuracy_score(y_pred,y_test))\n",
    "print(precision_score(y_pred,y_test))\n",
    "print(recall_score(y_pred,y_test))\n",
    "print(classification_report(y_pred,y_test))\n"
   ]
  },
  {
   "cell_type": "code",
   "execution_count": 75,
   "id": "c192c664-7e8c-413c-ad0e-d58147f6f32f",
   "metadata": {},
   "outputs": [
    {
     "name": "stdout",
     "output_type": "stream",
     "text": [
      "[[ 73   5]\n",
      " [  7 143]]\n",
      "0.9473684210526315\n",
      "0.9662162162162162\n",
      "0.9533333333333334\n",
      "              precision    recall  f1-score   support\n",
      "\n",
      "           0       0.91      0.94      0.92        78\n",
      "           1       0.97      0.95      0.96       150\n",
      "\n",
      "    accuracy                           0.95       228\n",
      "   macro avg       0.94      0.94      0.94       228\n",
      "weighted avg       0.95      0.95      0.95       228\n",
      "\n"
     ]
    }
   ],
   "source": [
    "from sklearn.datasets import load_breast_cancer\n",
    "data = load_breast_cancer()\n",
    "x = data.data\n",
    "y = data.target\n",
    "x_train, x_test, y_train, y_test = train_test_split(x,y,test_size=0.4, random_state=3) \n",
    "knn = KNeighborsClassifier(n_neighbors=5)\n",
    "knn.fit(x_train,y_train)\n",
    "y_pred = knn.predict(x_test)\n",
    "print(confusion_matrix(y_pred,y_test))\n",
    "print(accuracy_score(y_pred,y_test))\n",
    "print(precision_score(y_pred,y_test))\n",
    "print(recall_score(y_pred,y_test))\n",
    "print(classification_report(y_pred,y_test))"
   ]
  },
  {
   "cell_type": "code",
   "execution_count": 86,
   "id": "c1b8302a-864d-4de1-bca8-cc5d76a8ee8b",
   "metadata": {},
   "outputs": [],
   "source": [
    "actual = [1,0,1,0,1,0,0,1,0,1]\n",
    "knn = [1,0,0,1,1,0,1,0,0,1]\n",
    "matrix = [[0,0],[0,0]]\n",
    "for i,x in zip(actual,knn):\n",
    "    if (i == 1 and x == 1):\n",
    "        matrix[0][0]+= 1\n",
    "    elif(i == 1 and x == 0):\n",
    "        matrix[0][1]+= 1\n",
    "    elif(i==0 and x == 1):\n",
    "        matrix[1][0]+= 1\n",
    "    else:\n",
    "        matrix[1][1]+= 1"
   ]
  },
  {
   "cell_type": "code",
   "execution_count": 87,
   "id": "3ebce134-27d6-46ca-bee1-8b593c94596c",
   "metadata": {},
   "outputs": [
    {
     "data": {
      "text/plain": [
       "[[3, 2], [2, 3]]"
      ]
     },
     "execution_count": 87,
     "metadata": {},
     "output_type": "execute_result"
    }
   ],
   "source": [
    "matrix"
   ]
  },
  {
   "cell_type": "code",
   "execution_count": 89,
   "id": "1d136385-a5a4-4077-920b-cd365afd33ac",
   "metadata": {},
   "outputs": [
    {
     "name": "stdout",
     "output_type": "stream",
     "text": [
      "{'Accuracy': 0.6, 'Error': 0.4, 'Precesion': 0.6, 'Recall': 0.6, 'Specificity': 0.6}\n"
     ]
    }
   ],
   "source": [
    "TP= matrix[0][0]\n",
    "TN= matrix[1][1]\n",
    "FN= matrix[0][1]\n",
    "FP= matrix[1][0]\n",
    "acc = (TP + TN)/(TP+TN+FP+FN)\n",
    "error = 1 - acc\n",
    "precision = TP/(TP+FP)\n",
    "recall = TP/(TP+FN)\n",
    "specificity = TN/(TN + FP)\n",
    "print({\n",
    "    \"Type One Error:\":FP,\"Type Two Error:\":FN,\"Accuracy\":acc, \"Error\":error, \"Precesion\":precision, \"Recall\": recall, \"Specificity\": specificity\n",
    "})\n",
    "# F1 Score = 2PR/(R+P)"
   ]
  },
  {
   "cell_type": "code",
   "execution_count": 102,
   "id": "16540bb6-14c6-469e-938e-24fb1f18faba",
   "metadata": {},
   "outputs": [],
   "source": [
    "from sklearn.datasets import load_breast_cancer\n",
    "from sklearn.tree import DecisionTreeClassifier\n",
    "data = load_breast_cancer()\n",
    "x = data.data\n",
    "y = data.target\n",
    "x_train, x_test, y_train, y_test = train_test_split(x,y,test_size=0.4, random_state=3) \n",
    "decisionTree = DecisionTreeClassifier(criterion=\"entropy\",random_state=42,max_depth=3)\n",
    "decisionTree.fit(x_train,y_train)\n",
    "y_pred = decisionTree.predict(x_test)"
   ]
  },
  {
   "cell_type": "code",
   "execution_count": 94,
   "id": "1fa38d01-0625-483a-b6a8-62f8377e6afd",
   "metadata": {},
   "outputs": [
    {
     "name": "stdout",
     "output_type": "stream",
     "text": [
      "[[ 74   6]\n",
      " [  6 142]]\n",
      "0.9473684210526315\n",
      "0.9594594594594594\n",
      "0.9594594594594594\n",
      "              precision    recall  f1-score   support\n",
      "\n",
      "           0       0.93      0.93      0.93        80\n",
      "           1       0.96      0.96      0.96       148\n",
      "\n",
      "    accuracy                           0.95       228\n",
      "   macro avg       0.94      0.94      0.94       228\n",
      "weighted avg       0.95      0.95      0.95       228\n",
      "\n"
     ]
    }
   ],
   "source": [
    "print(confusion_matrix(y_pred,y_test))\n",
    "print(accuracy_score(y_pred,y_test))\n",
    "print(precision_score(y_pred,y_test))\n",
    "print(recall_score(y_pred,y_test))\n",
    "print(classification_report(y_pred,y_test))"
   ]
  },
  {
   "cell_type": "code",
   "execution_count": 103,
   "id": "70a2bcd7-c2d8-478a-a9af-f0ce25e16121",
   "metadata": {},
   "outputs": [
    {
     "data": {
      "image/png": "[encoded data removed]",
      "text/plain": [
       "<Figure size 2000x1000 with 1 Axes>"
      ]
     },
     "metadata": {},
     "output_type": "display_data"
    }
   ],
   "source": [
    "from sklearn.tree import plot_tree\n",
    "plt.figure(figsize=(20,10))\n",
    "plot_tree(\n",
    "    decision_tree=decisionTree,\n",
    "    feature_names=data.feature_names,\n",
    "    # max_depth=3,\n",
    "    class_names=data.target_names,\n",
    "    filled=True\n",
    ")\n",
    "plt.show()"
   ]
  },
  {
   "cell_type": "code",
   "execution_count": 98,
   "id": "565f0650-088e-4ce5-84e0-0816d5559adf",
   "metadata": {},
   "outputs": [
    {
     "data": {
      "text/plain": [
       "array(['mean radius', 'mean texture', 'mean perimeter', 'mean area',\n",
       "       'mean smoothness', 'mean compactness', 'mean concavity',\n",
       "       'mean concave points', 'mean symmetry', 'mean fractal dimension',\n",
       "       'radius error', 'texture error', 'perimeter error', 'area error',\n",
       "       'smoothness error', 'compactness error', 'concavity error',\n",
       "       'concave points error', 'symmetry error',\n",
       "       'fractal dimension error', 'worst radius', 'worst texture',\n",
       "       'worst perimeter', 'worst area', 'worst smoothness',\n",
       "       'worst compactness', 'worst concavity', 'worst concave points',\n",
       "       'worst symmetry', 'worst fractal dimension'], dtype='<U23')"
      ]
     },
     "execution_count": 98,
     "metadata": {},
     "output_type": "execute_result"
    }
   ],
   "source": [
    "data.feature_names"
   ]
  },
  {
   "cell_type": "code",
   "execution_count": 99,
   "id": "d39b8901-47f3-4dd5-bc6f-2930f9e99a05",
   "metadata": {},
   "outputs": [
    {
     "data": {
      "text/plain": [
       "array(['malignant', 'benign'], dtype='<U9')"
      ]
     },
     "execution_count": 99,
     "metadata": {},
     "output_type": "execute_result"
    }
   ],
   "source": [
    "data.target_names"
   ]
  },
  {
   "cell_type": "code",
   "execution_count": null,
   "id": "ff5d2646-d80e-473c-a29a-16fb6bf323ef",
   "metadata": {},
   "outputs": [],
   "source": []
  }
 ],
 "metadata": {
  "kernelspec": {
   "display_name": "Python 3 (ipykernel)",
   "language": "python",
   "name": "python3"
  },
  "language_info": {
   "codemirror_mode": {
    "name": "ipython",
    "version": 3
   },
   "file_extension": ".py",
   "mimetype": "text/x-python",
   "name": "python",
   "nbconvert_exporter": "python",
   "pygments_lexer": "ipython3",
   "version": "3.11.5"
  }
 },
 "nbformat": 4,
 "nbformat_minor": 5
}
